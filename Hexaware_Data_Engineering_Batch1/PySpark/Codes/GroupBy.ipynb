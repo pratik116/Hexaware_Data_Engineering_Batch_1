{
 "cells": [
  {
   "cell_type": "code",
   "execution_count": 31,
   "metadata": {},
   "outputs": [],
   "source": [
    "from pyspark.sql import SparkSession"
   ]
  },
  {
   "cell_type": "code",
   "execution_count": 32,
   "metadata": {},
   "outputs": [],
   "source": [
    "spark=SparkSession.builder.appName(\"Practice\").getOrCreate()"
   ]
  },
  {
   "cell_type": "code",
   "execution_count": 33,
   "metadata": {},
   "outputs": [],
   "source": [
    "data=spark.read.csv(r\"C:\\Users\\dell\\OneDrive\\Documents\\Desktop\\Hexaware_Data_Engineering_Batch1\\PySpark\\Codes\\salary.csv\",header=True,inferSchema=True)"
   ]
  },
  {
   "cell_type": "code",
   "execution_count": 34,
   "metadata": {},
   "outputs": [
    {
     "name": "stdout",
     "output_type": "stream",
     "text": [
      "+------+----+------+\n",
      "|  Name|Dept|Salary|\n",
      "+------+----+------+\n",
      "|Pratik|   A|500000|\n",
      "| Vikki|   A| 60000|\n",
      "| Rushi|   B| 90000|\n",
      "|Shravi|   B|500000|\n",
      "|Sweeha|   C|100000|\n",
      "| Sanvi|   C|200000|\n",
      "|Spruha|NULL|100000|\n",
      "|  Arun|   B|  NULL|\n",
      "|  NULL|   A|500000|\n",
      "+------+----+------+\n",
      "\n"
     ]
    }
   ],
   "source": [
    "data.show()"
   ]
  },
  {
   "cell_type": "code",
   "execution_count": 35,
   "metadata": {},
   "outputs": [
    {
     "name": "stdout",
     "output_type": "stream",
     "text": [
      "+----+-----------------+\n",
      "|Dept|      avg(Salary)|\n",
      "+----+-----------------+\n",
      "|NULL|         100000.0|\n",
      "|   B|         295000.0|\n",
      "|   C|         150000.0|\n",
      "|   A|353333.3333333333|\n",
      "+----+-----------------+\n",
      "\n"
     ]
    }
   ],
   "source": [
    "data.groupBy('Dept').avg('Salary').show()"
   ]
  },
  {
   "cell_type": "code",
   "execution_count": 36,
   "metadata": {},
   "outputs": [
    {
     "name": "stdout",
     "output_type": "stream",
     "text": [
      "+----+-----------+-----------+\n",
      "|Dept|sum(Salary)|count(Dept)|\n",
      "+----+-----------+-----------+\n",
      "|NULL|     100000|          0|\n",
      "|   B|     590000|          3|\n",
      "|   C|     300000|          2|\n",
      "|   A|    1060000|          3|\n",
      "+----+-----------+-----------+\n",
      "\n"
     ]
    }
   ],
   "source": [
    "data.groupBy('Dept').agg({'Dept':'count','Salary':'sum'}).show()"
   ]
  },
  {
   "cell_type": "code",
   "execution_count": 37,
   "metadata": {},
   "outputs": [
    {
     "name": "stdout",
     "output_type": "stream",
     "text": [
      "+---------------+------------------+\n",
      "|Department_Name|Departmentwise_sum|\n",
      "+---------------+------------------+\n",
      "|           NULL|            100000|\n",
      "|              B|            590000|\n",
      "|              C|            300000|\n",
      "|              A|           1060000|\n",
      "+---------------+------------------+\n",
      "\n"
     ]
    }
   ],
   "source": [
    "from pyspark.sql import functions as F\n",
    "data.groupBy('Dept').sum(\"Salary\").select(F.col(\"Dept\").alias(\"Department_Name\"),\n",
    "                                        F.col(\"sum(Salary)\").alias(\"Departmentwise_sum\")).show()"
   ]
  },
  {
   "cell_type": "code",
   "execution_count": 38,
   "metadata": {},
   "outputs": [
    {
     "name": "stdout",
     "output_type": "stream",
     "text": [
      "+----+------+----+------+-----+------+------+------+------+-----+\n",
      "|Dept|  null|Arun|Pratik|Rushi| Sanvi|Shravi|Spruha|Sweeha|Vikki|\n",
      "+----+------+----+------+-----+------+------+------+------+-----+\n",
      "|NULL|  NULL|NULL|  NULL| NULL|  NULL|  NULL|100000|  NULL| NULL|\n",
      "|   B|  NULL|NULL|  NULL|90000|  NULL|500000|  NULL|  NULL| NULL|\n",
      "|   C|  NULL|NULL|  NULL| NULL|200000|  NULL|  NULL|100000| NULL|\n",
      "|   A|500000|NULL|500000| NULL|  NULL|  NULL|  NULL|  NULL|60000|\n",
      "+----+------+----+------+-----+------+------+------+------+-----+\n",
      "\n"
     ]
    }
   ],
   "source": [
    "data.groupBy(\"Dept\").pivot(\"Name\").sum(\"salary\").show()"
   ]
  },
  {
   "cell_type": "code",
   "execution_count": 39,
   "metadata": {},
   "outputs": [
    {
     "name": "stdout",
     "output_type": "stream",
     "text": [
      "+------+----+------+\n",
      "|  Name|Dept|Salary|\n",
      "+------+----+------+\n",
      "|Pratik|   A|500000|\n",
      "| Vikki|   A| 60000|\n",
      "| Rushi|   B| 90000|\n",
      "|Shravi|   B|500000|\n",
      "|Sweeha|   C|100000|\n",
      "| Sanvi|   C|200000|\n",
      "|Spruha|NULL|100000|\n",
      "|  Arun|   B|  NULL|\n",
      "|  NULL|   A|500000|\n",
      "+------+----+------+\n",
      "\n"
     ]
    }
   ],
   "source": [
    "#entered null values here\n",
    "data.show()"
   ]
  },
  {
   "cell_type": "code",
   "execution_count": 40,
   "metadata": {},
   "outputs": [
    {
     "name": "stdout",
     "output_type": "stream",
     "text": [
      "+------+----+------+\n",
      "|  Name|Dept|Salary|\n",
      "+------+----+------+\n",
      "|Pratik|   A|500000|\n",
      "| Vikki|   A| 60000|\n",
      "| Rushi|   B| 90000|\n",
      "|Shravi|   B|500000|\n",
      "|Sweeha|   C|100000|\n",
      "| Sanvi|   C|200000|\n",
      "+------+----+------+\n",
      "\n"
     ]
    }
   ],
   "source": [
    "data.na.drop().show()"
   ]
  },
  {
   "cell_type": "code",
   "execution_count": 53,
   "metadata": {},
   "outputs": [
    {
     "name": "stdout",
     "output_type": "stream",
     "text": [
      "+------+----+------+\n",
      "|  Name|Dept|Salary|\n",
      "+------+----+------+\n",
      "|Pratik|   A|500000|\n",
      "| Vikki|   A| 60000|\n",
      "| Rushi|   B| 90000|\n",
      "|Shravi|   B|500000|\n",
      "|Sweeha|   C|100000|\n",
      "| Sanvi|   C|200000|\n",
      "|Spruha|NULL|100000|\n",
      "|  Arun|   B|  NULL|\n",
      "|  NULL|   A|500000|\n",
      "+------+----+------+\n",
      "\n"
     ]
    }
   ],
   "source": [
    "data.na.drop(how=\"all\").show()"
   ]
  },
  {
   "cell_type": "code",
   "execution_count": 54,
   "metadata": {},
   "outputs": [
    {
     "name": "stdout",
     "output_type": "stream",
     "text": [
      "+------+----+------+\n",
      "|  Name|Dept|Salary|\n",
      "+------+----+------+\n",
      "|Pratik|   A|500000|\n",
      "| Vikki|   A| 60000|\n",
      "| Rushi|   B| 90000|\n",
      "|Shravi|   B|500000|\n",
      "|Sweeha|   C|100000|\n",
      "| Sanvi|   C|200000|\n",
      "|Spruha|NULL|100000|\n",
      "|  Arun|   B|  NULL|\n",
      "|  NULL|   A|500000|\n",
      "+------+----+------+\n",
      "\n",
      "+------+----+------+\n",
      "|  Name|Dept|Salary|\n",
      "+------+----+------+\n",
      "|Pratik|   A|500000|\n",
      "| Vikki|   A| 60000|\n",
      "| Rushi|   B| 90000|\n",
      "|Shravi|   B|500000|\n",
      "|Sweeha|   C|100000|\n",
      "| Sanvi|   C|200000|\n",
      "+------+----+------+\n",
      "\n"
     ]
    }
   ],
   "source": [
    "data.na.drop(how=\"any\",thresh=2).show()\n",
    "data.na.drop(how=\"any\",thresh=3).show()"
   ]
  },
  {
   "cell_type": "code",
   "execution_count": 55,
   "metadata": {},
   "outputs": [
    {
     "name": "stdout",
     "output_type": "stream",
     "text": [
      "+------+----+------+\n",
      "|  Name|Dept|Salary|\n",
      "+------+----+------+\n",
      "|Pratik|   A|500000|\n",
      "| Vikki|   A| 60000|\n",
      "| Rushi|   B| 90000|\n",
      "|Shravi|   B|500000|\n",
      "|Sweeha|   C|100000|\n",
      "| Sanvi|   C|200000|\n",
      "|Spruha|NULL|100000|\n",
      "|  NULL|   A|500000|\n",
      "+------+----+------+\n",
      "\n"
     ]
    }
   ],
   "source": [
    "data.na.drop(how='any',subset=['Salary']).show()"
   ]
  },
  {
   "cell_type": "code",
   "execution_count": 60,
   "metadata": {},
   "outputs": [
    {
     "name": "stdout",
     "output_type": "stream",
     "text": [
      "+---------+---------+------+\n",
      "|     Name|     Dept|Salary|\n",
      "+---------+---------+------+\n",
      "|   Pratik|        A|500000|\n",
      "|    Vikki|        A| 60000|\n",
      "|    Rushi|        B| 90000|\n",
      "|   Shravi|        B|500000|\n",
      "|   Sweeha|        C|100000|\n",
      "|    Sanvi|        C|200000|\n",
      "|   Spruha|Not known|100000|\n",
      "|     Arun|        B|     0|\n",
      "|Not known|        A|500000|\n",
      "+---------+---------+------+\n",
      "\n"
     ]
    }
   ],
   "source": [
    "(data.na.fill('Not known')).na.fill(0).show()"
   ]
  },
  {
   "cell_type": "code",
   "execution_count": 63,
   "metadata": {},
   "outputs": [
    {
     "name": "stdout",
     "output_type": "stream",
     "text": [
      "+------+----+------+\n",
      "|  Name|Dept|Salary|\n",
      "+------+----+------+\n",
      "|  Arun|   B|  NULL|\n",
      "| Vikki|   A| 60000|\n",
      "| Rushi|   B| 90000|\n",
      "|Spruha|NULL|100000|\n",
      "|Sweeha|   C|100000|\n",
      "| Sanvi|   C|200000|\n",
      "|Pratik|   A|500000|\n",
      "|  NULL|   A|500000|\n",
      "|Shravi|   B|500000|\n",
      "+------+----+------+\n",
      "\n"
     ]
    }
   ],
   "source": [
    "data.sort('Salary','Dept').show()"
   ]
  },
  {
   "cell_type": "code",
   "execution_count": 64,
   "metadata": {},
   "outputs": [
    {
     "name": "stdout",
     "output_type": "stream",
     "text": [
      "+------+----+------+\n",
      "|  Name|Dept|Salary|\n",
      "+------+----+------+\n",
      "|Pratik|   A|500000|\n",
      "|Shravi|   B|500000|\n",
      "|  NULL|   A|500000|\n",
      "| Sanvi|   C|200000|\n",
      "|Sweeha|   C|100000|\n",
      "|Spruha|NULL|100000|\n",
      "| Rushi|   B| 90000|\n",
      "| Vikki|   A| 60000|\n",
      "|  Arun|   B|  NULL|\n",
      "+------+----+------+\n",
      "\n"
     ]
    }
   ],
   "source": [
    "data.sort(data['Salary'].desc()).show()"
   ]
  }
 ],
 "metadata": {
  "kernelspec": {
   "display_name": "Python 3",
   "language": "python",
   "name": "python3"
  },
  "language_info": {
   "codemirror_mode": {
    "name": "ipython",
    "version": 3
   },
   "file_extension": ".py",
   "mimetype": "text/x-python",
   "name": "python",
   "nbconvert_exporter": "python",
   "pygments_lexer": "ipython3",
   "version": "3.9.6"
  }
 },
 "nbformat": 4,
 "nbformat_minor": 2
}
