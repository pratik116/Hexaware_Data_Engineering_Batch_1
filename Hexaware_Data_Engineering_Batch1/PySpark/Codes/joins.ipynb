{
 "cells": [
  {
   "cell_type": "code",
   "execution_count": 3,
   "metadata": {},
   "outputs": [],
   "source": [
    "\n",
    "from pyspark.sql import SparkSession"
   ]
  },
  {
   "cell_type": "code",
   "execution_count": 4,
   "metadata": {},
   "outputs": [],
   "source": [
    "spark=SparkSession.builder.appName(\"Practice\").getOrCreate()"
   ]
  },
  {
   "cell_type": "code",
   "execution_count": 5,
   "metadata": {},
   "outputs": [],
   "source": [
    "data1=spark.read.csv(r\"EMP_DATA.CSV\",header=True,inferSchema=True)\n",
    "data2=spark.read.csv(r\"DEPT_DATA.CSV\",header=True,inferSchema=True)"
   ]
  },
  {
   "cell_type": "code",
   "execution_count": 6,
   "metadata": {},
   "outputs": [
    {
     "name": "stdout",
     "output_type": "stream",
     "text": [
      "+------+--------+---------------+-----------+-----------+------+------+\n",
      "|emp_id|    name|superior_emp_id|year_joined|emp_dept_id|gender|salary|\n",
      "+------+--------+---------------+-----------+-----------+------+------+\n",
      "|     1|   Smith|             -1|       2018|         10|     M|  3000|\n",
      "|     2|    Rose|              1|       2010|         20|     M|  4000|\n",
      "|     3|Williams|              1|       2010|         10|     M|  1000|\n",
      "|     4|   Jones|              2|       2005|         10|     F|  2000|\n",
      "|     5|   Brown|              2|       2010|         40|  NULL|    -1|\n",
      "|     6|   Brown|              2|       2010|         50|  NULL|    -1|\n",
      "+------+--------+---------------+-----------+-----------+------+------+\n",
      "\n",
      "+----------+-------+\n",
      "|dept_name\"|dept_id|\n",
      "+----------+-------+\n",
      "|   Finance|     10|\n",
      "| Marketing|     20|\n",
      "|     Sales|     30|\n",
      "|        IT|     40|\n",
      "+----------+-------+\n",
      "\n"
     ]
    }
   ],
   "source": [
    "data1.show()\n",
    "data2.show()"
   ]
  },
  {
   "cell_type": "code",
   "execution_count": 9,
   "metadata": {},
   "outputs": [
    {
     "name": "stdout",
     "output_type": "stream",
     "text": [
      "+------+--------+---------------+-----------+-----------+-------+------+----------+-------+\n",
      "|emp_id|    name|superior_emp_id|year_joined|emp_dept_id| gender|salary|dept_name\"|dept_id|\n",
      "+------+--------+---------------+-----------+-----------+-------+------+----------+-------+\n",
      "|     1|   Smith|             -1|       2018|         10|      M|  3000|   Finance|     10|\n",
      "|     2|    Rose|              1|       2010|         20|      M|  4000| Marketing|     20|\n",
      "|     3|Williams|              1|       2010|         10|      M|  1000|   Finance|     10|\n",
      "|     4|   Jones|              2|       2005|         10|      F|  2000|   Finance|     10|\n",
      "|     5|   Brown|              2|       2010|         40|UnKnown|    -1|        IT|     40|\n",
      "+------+--------+---------------+-----------+-----------+-------+------+----------+-------+\n",
      "\n"
     ]
    }
   ],
   "source": [
    "#Inner Join\n",
    "data1.join(data2,data1.emp_dept_id==data2.dept_id,\"inner\").na.fill('UnKnown').show()\n"
   ]
  },
  {
   "cell_type": "code",
   "execution_count": 10,
   "metadata": {},
   "outputs": [
    {
     "name": "stdout",
     "output_type": "stream",
     "text": [
      "+------+--------+---------------+-----------+-----------+------+------+----------+-------+\n",
      "|emp_id|    name|superior_emp_id|year_joined|emp_dept_id|gender|salary|dept_name\"|dept_id|\n",
      "+------+--------+---------------+-----------+-----------+------+------+----------+-------+\n",
      "|     1|   Smith|             -1|       2018|         10|     M|  3000|   Finance|     10|\n",
      "|     3|Williams|              1|       2010|         10|     M|  1000|   Finance|     10|\n",
      "|     4|   Jones|              2|       2005|         10|     F|  2000|   Finance|     10|\n",
      "|     2|    Rose|              1|       2010|         20|     M|  4000| Marketing|     20|\n",
      "|  NULL|    NULL|           NULL|       NULL|       NULL|  NULL|  NULL|     Sales|     30|\n",
      "|     5|   Brown|              2|       2010|         40|  NULL|    -1|        IT|     40|\n",
      "|     6|   Brown|              2|       2010|         50|  NULL|    -1|      NULL|   NULL|\n",
      "+------+--------+---------------+-----------+-----------+------+------+----------+-------+\n",
      "\n"
     ]
    }
   ],
   "source": [
    "#Outer Join\n",
    "data1.join(data2,data1.emp_dept_id==data2.dept_id,\"outer\").show()"
   ]
  },
  {
   "cell_type": "code",
   "execution_count": 11,
   "metadata": {},
   "outputs": [
    {
     "name": "stdout",
     "output_type": "stream",
     "text": [
      "+------+--------+---------------+-----------+-----------+------+------+----------+-------+\n",
      "|emp_id|    name|superior_emp_id|year_joined|emp_dept_id|gender|salary|dept_name\"|dept_id|\n",
      "+------+--------+---------------+-----------+-----------+------+------+----------+-------+\n",
      "|     1|   Smith|             -1|       2018|         10|     M|  3000|   Finance|     10|\n",
      "|     3|Williams|              1|       2010|         10|     M|  1000|   Finance|     10|\n",
      "|     4|   Jones|              2|       2005|         10|     F|  2000|   Finance|     10|\n",
      "|     2|    Rose|              1|       2010|         20|     M|  4000| Marketing|     20|\n",
      "|  NULL|    NULL|           NULL|       NULL|       NULL|  NULL|  NULL|     Sales|     30|\n",
      "|     5|   Brown|              2|       2010|         40|  NULL|    -1|        IT|     40|\n",
      "|     6|   Brown|              2|       2010|         50|  NULL|    -1|      NULL|   NULL|\n",
      "+------+--------+---------------+-----------+-----------+------+------+----------+-------+\n",
      "\n"
     ]
    }
   ],
   "source": [
    "# Full join\n",
    "data1.join(data2,data1.emp_dept_id==data2.dept_id,\"full\").show()"
   ]
  },
  {
   "cell_type": "code",
   "execution_count": 12,
   "metadata": {},
   "outputs": [
    {
     "name": "stdout",
     "output_type": "stream",
     "text": [
      "+------+--------+---------------+-----------+-----------+------+------+----------+-------+\n",
      "|emp_id|    name|superior_emp_id|year_joined|emp_dept_id|gender|salary|dept_name\"|dept_id|\n",
      "+------+--------+---------------+-----------+-----------+------+------+----------+-------+\n",
      "|     1|   Smith|             -1|       2018|         10|     M|  3000|   Finance|     10|\n",
      "|     2|    Rose|              1|       2010|         20|     M|  4000| Marketing|     20|\n",
      "|     3|Williams|              1|       2010|         10|     M|  1000|   Finance|     10|\n",
      "|     4|   Jones|              2|       2005|         10|     F|  2000|   Finance|     10|\n",
      "|     5|   Brown|              2|       2010|         40|  NULL|    -1|        IT|     40|\n",
      "|     6|   Brown|              2|       2010|         50|  NULL|    -1|      NULL|   NULL|\n",
      "+------+--------+---------------+-----------+-----------+------+------+----------+-------+\n",
      "\n"
     ]
    }
   ],
   "source": [
    "# left join\n",
    "data1.join(data2,data1.emp_dept_id==data2.dept_id,\"left\").show()\n"
   ]
  },
  {
   "cell_type": "code",
   "execution_count": 13,
   "metadata": {},
   "outputs": [
    {
     "name": "stdout",
     "output_type": "stream",
     "text": [
      "+------+--------+---------------+-----------+-----------+------+------+----------+-------+\n",
      "|emp_id|    name|superior_emp_id|year_joined|emp_dept_id|gender|salary|dept_name\"|dept_id|\n",
      "+------+--------+---------------+-----------+-----------+------+------+----------+-------+\n",
      "|     4|   Jones|              2|       2005|         10|     F|  2000|   Finance|     10|\n",
      "|     3|Williams|              1|       2010|         10|     M|  1000|   Finance|     10|\n",
      "|     1|   Smith|             -1|       2018|         10|     M|  3000|   Finance|     10|\n",
      "|     2|    Rose|              1|       2010|         20|     M|  4000| Marketing|     20|\n",
      "|  NULL|    NULL|           NULL|       NULL|       NULL|  NULL|  NULL|     Sales|     30|\n",
      "|     5|   Brown|              2|       2010|         40|  NULL|    -1|        IT|     40|\n",
      "+------+--------+---------------+-----------+-----------+------+------+----------+-------+\n",
      "\n"
     ]
    }
   ],
   "source": [
    "# Right join\n",
    "data1.join(data2,data1.emp_dept_id==data2.dept_id,\"right\").show()"
   ]
  },
  {
   "cell_type": "code",
   "execution_count": 14,
   "metadata": {},
   "outputs": [
    {
     "name": "stdout",
     "output_type": "stream",
     "text": [
      "+------+--------+---------------+-----------+-----------+------+------+\n",
      "|emp_id|    name|superior_emp_id|year_joined|emp_dept_id|gender|salary|\n",
      "+------+--------+---------------+-----------+-----------+------+------+\n",
      "|     1|   Smith|             -1|       2018|         10|     M|  3000|\n",
      "|     2|    Rose|              1|       2010|         20|     M|  4000|\n",
      "|     3|Williams|              1|       2010|         10|     M|  1000|\n",
      "|     4|   Jones|              2|       2005|         10|     F|  2000|\n",
      "|     5|   Brown|              2|       2010|         40|  NULL|    -1|\n",
      "+------+--------+---------------+-----------+-----------+------+------+\n",
      "\n"
     ]
    }
   ],
   "source": [
    "# LeftSemi join\n",
    "data1.join(data2,data1.emp_dept_id==data2.dept_id,\"leftsemi\").show()"
   ]
  },
  {
   "cell_type": "code",
   "execution_count": 15,
   "metadata": {},
   "outputs": [
    {
     "name": "stdout",
     "output_type": "stream",
     "text": [
      "+------+-----+---------------+-----------+-----------+------+------+\n",
      "|emp_id| name|superior_emp_id|year_joined|emp_dept_id|gender|salary|\n",
      "+------+-----+---------------+-----------+-----------+------+------+\n",
      "|     6|Brown|              2|       2010|         50|  NULL|    -1|\n",
      "+------+-----+---------------+-----------+-----------+------+------+\n",
      "\n"
     ]
    }
   ],
   "source": [
    "data1.join(data2,data1.emp_dept_id==data2.dept_id,\"leftanti\").show()"
   ]
  }
 ],
 "metadata": {
  "kernelspec": {
   "display_name": "Python 3",
   "language": "python",
   "name": "python3"
  },
  "language_info": {
   "codemirror_mode": {
    "name": "ipython",
    "version": 3
   },
   "file_extension": ".py",
   "mimetype": "text/x-python",
   "name": "python",
   "nbconvert_exporter": "python",
   "pygments_lexer": "ipython3",
   "version": "3.9.6"
  }
 },
 "nbformat": 4,
 "nbformat_minor": 2
}
