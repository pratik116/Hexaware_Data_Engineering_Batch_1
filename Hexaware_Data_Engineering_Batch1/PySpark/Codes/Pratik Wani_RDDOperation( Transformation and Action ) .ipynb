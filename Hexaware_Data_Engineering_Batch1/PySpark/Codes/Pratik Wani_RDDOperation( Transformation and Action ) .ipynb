{
 "cells": [
  {
   "cell_type": "code",
   "execution_count": 3,
   "id": "21685b4e",
   "metadata": {},
   "outputs": [
    {
     "name": "stdout",
     "output_type": "stream",
     "text": [
      "10\n"
     ]
    }
   ],
   "source": [
    "\n",
    "import pyspark\n",
    "\n",
    "import findspark\n",
    "\n",
    "findspark.init()\n",
    "\n",
    "\n",
    "from pyspark import SparkContext\n",
    "\n",
    "sc = SparkContext(\"local\", \"RDD Transformation\")\n",
    "\n",
    "sc"
   ]
  },
  {
   "cell_type": "code",
   "execution_count": 11,
   "id": "75ec0ab8",
   "metadata": {},
   "outputs": [
    {
     "name": "stdout",
     "output_type": "stream",
     "text": [
      "10\n"
     ]
    }
   ],
   "source": [
    "count_rdd = sc.parallelize([1,2,3,4,5,5,6,7,8,9])\n",
    "\n",
    "print(count_rdd.count())"
   ]
  },
  {
   "cell_type": "code",
   "execution_count": 4,
   "id": "595b33f3",
   "metadata": {},
   "outputs": [
    {
     "name": "stdout",
     "output_type": "stream",
     "text": [
      "14\n"
     ]
    }
   ],
   "source": [
    "reduce_rdd = sc.parallelize([1,3,4,6])\n",
    "\n",
    "print(reduce_rdd.reduce(lambda x, y : x + y))"
   ]
  },
  {
   "cell_type": "code",
   "execution_count": 7,
   "id": "65f5598b",
   "metadata": {},
   "outputs": [
    {
     "name": "stdout",
     "output_type": "stream",
     "text": [
      "[1, 2, 6]\n"
     ]
    }
   ],
   "source": [
    "take_rdd = sc.parallelize([1,2,6,7])\n",
    "print(take_rdd.take(3))"
   ]
  },
  {
   "cell_type": "code",
   "execution_count": 8,
   "id": "b981c184",
   "metadata": {},
   "outputs": [
    {
     "name": "stdout",
     "output_type": "stream",
     "text": [
      "1\n"
     ]
    }
   ],
   "source": [
    "first_rdd = sc.parallelize([1,2,3,4,5,6,9])\n",
    "print(first_rdd.first())"
   ]
  },
  {
   "cell_type": "code",
   "execution_count": 10,
   "id": "e329de00",
   "metadata": {},
   "outputs": [
    {
     "data": {
      "text/plain": [
       "[1, 4, 9, 16]"
      ]
     },
     "execution_count": 10,
     "metadata": {},
     "output_type": "execute_result"
    }
   ],
   "source": [
    "map_rdd=sc.parallelize([1,2,3,4])\n",
    "temp=(map_rdd.map(lambda x:x**2))\n",
    "temp.collect()\n"
   ]
  },
  {
   "cell_type": "code",
   "execution_count": 12,
   "id": "071a1709",
   "metadata": {},
   "outputs": [
    {
     "name": "stdout",
     "output_type": "stream",
     "text": [
      "[2, 4, 6]\n"
     ]
    }
   ],
   "source": [
    "filter_rdd = sc.parallelize([2, 3, 4, 5, 6, 7])\n",
    "print(filter_rdd.filter(lambda x: x%2 == 0).collect())\n"
   ]
  },
  {
   "cell_type": "code",
   "execution_count": 13,
   "id": "f5e07200",
   "metadata": {},
   "outputs": [
    {
     "name": "stdout",
     "output_type": "stream",
     "text": [
      "[2, 4, 6, 8, 5, 7, 9]\n"
     ]
    }
   ],
   "source": [
    "all= sc.parallelize([2,4,5,6,7,8,9])\n",
    "even= all.filter(lambda x: x % 2 == 0)\n",
    "odd = all.filter(lambda x: x % 2 != 0)\n",
    "print(even.union(odd).collect())\n"
   ]
  },
  {
   "cell_type": "code",
   "execution_count": 16,
   "id": "013cc54d",
   "metadata": {},
   "outputs": [
    {
     "data": {
      "text/plain": [
       "['Hey',\n",
       " 'My',\n",
       " 'name',\n",
       " 'is',\n",
       " 'Pratik',\n",
       " 'Arun',\n",
       " 'Wani',\n",
       " 'This',\n",
       " 'is',\n",
       " 'my',\n",
       " '1st',\n",
       " 'PySpark',\n",
       " 'RDD',\n",
       " 'Transformations',\n",
       " 'program']"
      ]
     },
     "execution_count": 16,
     "metadata": {},
     "output_type": "execute_result"
    }
   ],
   "source": [
    "flatmap_rdd = sc.parallelize([\"Hey My name is Pratik Arun Wani\", \"This is my 1st PySpark RDD Transformations program\"])\n",
    "(flatmap_rdd.flatMap(lambda x: x.split(\" \")).collect())\n"
   ]
  },
  {
   "cell_type": "code",
   "execution_count": 17,
   "id": "14e002a5",
   "metadata": {},
   "outputs": [
    {
     "data": {
      "text/plain": [
       "[('Pratik', 88), ('Jagan', 91), ('Shirin', 90), ('Abhijeet', 90), ('John', 71)]"
      ]
     },
     "execution_count": 17,
     "metadata": {},
     "output_type": "execute_result"
    }
   ],
   "source": [
    "marks = [('Pratik', 88), ('Jagan', 91), ('Shirin', 90), ('Abhijeet', 90), ('John', 71)]\n",
    "sc.parallelize(marks).collect()\n"
   ]
  },
  {
   "cell_type": "code",
   "execution_count": 28,
   "id": "9237227b",
   "metadata": {},
   "outputs": [
    {
     "name": "stdout",
     "output_type": "stream",
     "text": [
      "[('Rahul', 575), ('Swati', 494), ('Shreya', 616), ('Abhay', 754), ('Rohan', 10648)]\n"
     ]
    }
   ],
   "source": [
    "marks_rdd = sc.parallelize([('Rahul', 25), ('Swati', 26), ('Shreya', 22), ('Abhay', 29), ('Rohan', 22), ('Rahul', 23),\n",
    "                            ('Swati', 19), ('Shreya', 28), ('Abhay', 26), ('Rohan', 22),('Rohan', 22)])\n",
    "print(marks_rdd.reduceByKey(lambda x,y : x*y ).collect())\n"
   ]
  },
  {
   "cell_type": "code",
   "execution_count": 21,
   "id": "b80d8e89",
   "metadata": {},
   "outputs": [
    {
     "name": "stdout",
     "output_type": "stream",
     "text": [
      "[('Abhay', 29), ('Abhay', 26), ('Rahul', 25), ('Rahul', 23), ('Rohan', 22), ('Rohan', 22), ('Shreya', 22), ('Shreya', 28), ('Swati', 26), ('Swati', 19)]\n"
     ]
    }
   ],
   "source": [
    "marks_rdd = sc.parallelize([('Rahul', 25), ('Swati', 26), ('Shreya', 22), ('Abhay', 29), \n",
    "                            ('Rohan', 22), ('Rahul', 23), ('Swati', 19), ('Shreya', 28), ('Abhay', 26), ('Rohan', 22)])\n",
    "print(marks_rdd.sortByKey().collect())\n"
   ]
  },
  {
   "cell_type": "code",
   "execution_count": 26,
   "id": "039a2d3f",
   "metadata": {},
   "outputs": [
    {
     "name": "stdout",
     "output_type": "stream",
     "text": [
      "Rahul   [25, 23]\n",
      "Swati   [26, 19]\n",
      "Shreya   [22, 28]\n",
      "Abhay   [29, 26]\n",
      "Rohan   [22, 22]\n"
     ]
    }
   ],
   "source": [
    "marks_rdd = sc.parallelize([('Rahul', 25), ('Swati', 26), ('Shreya', 22), ('Abhay', 29), \n",
    "                            ('Rohan', 22), ('Rahul', 23), ('Swati', 19), ('Shreya', 28), ('Abhay', 26), ('Rohan', 22)])\n",
    "dict_rdd = marks_rdd.groupByKey().collect()\n",
    "for item in dict(dict_rdd).items():\n",
    "    print(item[0],\" \",list(item[1]))\n"
   ]
  },
  {
   "cell_type": "code",
   "execution_count": 27,
   "id": "e2c295a7",
   "metadata": {},
   "outputs": [
    {
     "name": "stdout",
     "output_type": "stream",
     "text": [
      "Rahul 2\n",
      "Swati 2\n",
      "Rohan 2\n",
      "Shreya 1\n",
      "Abhay 1\n"
     ]
    }
   ],
   "source": [
    "marks_rdd = sc.parallelize([('Rahul', 25), ('Swati', 26), ('Rohan', 22), ('Rahul', 23),\n",
    "                            ('Swati', 19), ('Shreya', 28), ('Abhay', 26), ('Rohan', 22)])\n",
    "dict_rdd = marks_rdd.countByKey().items()\n",
    "for key, value in dict_rdd:\n",
    "    print(key, value)\n"
   ]
  }
 ],
 "metadata": {
  "kernelspec": {
   "display_name": "Python 3 (ipykernel)",
   "language": "python",
   "name": "python3"
  },
  "language_info": {
   "codemirror_mode": {
    "name": "ipython",
    "version": 3
   },
   "file_extension": ".py",
   "mimetype": "text/x-python",
   "name": "python",
   "nbconvert_exporter": "python",
   "pygments_lexer": "ipython3",
   "version": "3.9.6"
  }
 },
 "nbformat": 4,
 "nbformat_minor": 5
}
