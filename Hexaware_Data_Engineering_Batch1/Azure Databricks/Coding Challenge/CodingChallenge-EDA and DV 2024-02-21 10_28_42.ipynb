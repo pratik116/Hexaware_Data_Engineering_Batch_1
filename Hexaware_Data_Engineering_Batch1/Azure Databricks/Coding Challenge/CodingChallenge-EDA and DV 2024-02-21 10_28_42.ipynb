{
 "cells": [
  {
   "cell_type": "code",
   "execution_count": 0,
   "metadata": {
    "application/vnd.databricks.v1+cell": {
     "cellMetadata": {
      "byteLimit": 2048000,
      "rowLimit": 10000
     },
     "inputWidgets": {},
     "nuid": "449abef5-9351-4430-b03c-8087fd9fc13d",
     "showTitle": false,
     "title": ""
    }
   },
   "outputs": [],
   "source": [
    "from pyspark.sql import SparkSession"
   ]
  },
  {
   "cell_type": "code",
   "execution_count": 0,
   "metadata": {
    "application/vnd.databricks.v1+cell": {
     "cellMetadata": {
      "byteLimit": 2048000,
      "rowLimit": 10000
     },
     "inputWidgets": {},
     "nuid": "58c4924a-b698-4b24-9032-001053747c2d",
     "showTitle": false,
     "title": ""
    }
   },
   "outputs": [],
   "source": [
    "spark=SparkSession.Builder().appName('CodingChallenge').getOrCreate()"
   ]
  },
  {
   "cell_type": "code",
   "execution_count": 0,
   "metadata": {
    "application/vnd.databricks.v1+cell": {
     "cellMetadata": {
      "byteLimit": 2048000,
      "rowLimit": 10000
     },
     "inputWidgets": {},
     "nuid": "afb1647d-a4b8-4ba4-acad-c95ec45fa82f",
     "showTitle": false,
     "title": ""
    }
   },
   "outputs": [],
   "source": [
    "# EDA - CSV file Upload\n",
    "\n",
    "dataframe=spark.read.csv(\"/FileStore/tables/CCsv.csv\")"
   ]
  },
  {
   "cell_type": "code",
   "execution_count": 0,
   "metadata": {
    "application/vnd.databricks.v1+cell": {
     "cellMetadata": {
      "byteLimit": 2048000,
      "rowLimit": 10000
     },
     "inputWidgets": {},
     "nuid": "376ae495-f16c-431c-85a8-fdce62a96eb3",
     "showTitle": false,
     "title": ""
    }
   },
   "outputs": [
    {
     "output_type": "stream",
     "name": "stdout",
     "output_type": "stream",
     "text": [
      "+-----------+--------------------+--------------------+--------------------+\n|        _c0|                 _c1|                 _c2|                 _c3|\n+-----------+--------------------+--------------------+--------------------+\n|    Country|Population (milli...|GDP per capita (USD)|Life expectancy (...|\n|        USA|               328.2|               65246|                78.9|\n|      China|              1439.3|               10261|                76.9|\n|      Japan|               126.5|               40849|                84.6|\n|    Germany|                83.2|               48039|                81.2|\n|      India|              1380.0|                2155|                69.7|\n|         UK|                68.2|               42943|                81.3|\n|     France|                65.3|               41463|                82.3|\n|      Italy|                60.4|               34483|                83.5|\n|     Brazil|               211.0|                8824|                75.9|\n|     Canada|                38.0|               46462|                82.3|\n|  Australia|                25.4|               55871|                83.9|\n|South Korea|                51.8|               32775|                83.5|\n+-----------+--------------------+--------------------+--------------------+\n\n"
     ]
    }
   ],
   "source": [
    "# EDA - Data Analysis\n",
    "\n",
    "dataframe.show()"
   ]
  },
  {
   "cell_type": "code",
   "execution_count": 0,
   "metadata": {
    "application/vnd.databricks.v1+cell": {
     "cellMetadata": {
      "byteLimit": 2048000,
      "rowLimit": 10000
     },
     "inputWidgets": {},
     "nuid": "ab6ebdb1-2531-48e9-bae4-b0145b062da7",
     "showTitle": false,
     "title": ""
    }
   },
   "outputs": [
    {
     "output_type": "stream",
     "name": "stdout",
     "output_type": "stream",
     "text": [
      "+-------+---------+--------------------+--------------------+--------------------+\n|summary|      _c0|                 _c1|                 _c2|                 _c3|\n+-------+---------+--------------------+--------------------+--------------------+\n|  count|       13|                  13|                  13|                  13|\n|   mean|     NULL|  323.10833333333335|  35780.916666666664|   80.33333333333333|\n| stddev|     NULL|   514.8427093577104|  19458.065882854728|   4.337643544039956|\n|    min|Australia|               126.5|               10261|                69.7|\n|    max|      USA|Population (milli...|GDP per capita (USD)|Life expectancy (...|\n+-------+---------+--------------------+--------------------+--------------------+\n\n"
     ]
    }
   ],
   "source": [
    "# EDA - Statistical analysis\n",
    "\n",
    "dataframe.describe().show()"
   ]
  },
  {
   "cell_type": "code",
   "execution_count": 0,
   "metadata": {
    "application/vnd.databricks.v1+cell": {
     "cellMetadata": {
      "byteLimit": 2048000,
      "rowLimit": 10000
     },
     "inputWidgets": {},
     "nuid": "9d5b03d7-1d23-4fb8-9b42-18c303fe3ca8",
     "showTitle": false,
     "title": ""
    }
   },
   "outputs": [
    {
     "output_type": "display_data",
     "data": {
      "text/html": [
       "<style scoped>\n",
       "  .table-result-container {\n",
       "    max-height: 300px;\n",
       "    overflow: auto;\n",
       "  }\n",
       "  table, th, td {\n",
       "    border: 1px solid black;\n",
       "    border-collapse: collapse;\n",
       "  }\n",
       "  th, td {\n",
       "    padding: 5px;\n",
       "  }\n",
       "  th {\n",
       "    text-align: left;\n",
       "  }\n",
       "</style><div class='table-result-container'><table class='table-result'><thead style='background-color: white'><tr><th>_c0</th><th>_c1</th><th>_c2</th><th>_c3</th></tr></thead><tbody><tr><td>Country</td><td>Population (millions)</td><td>GDP per capita (USD)</td><td>Life expectancy (years)</td></tr><tr><td>USA</td><td>328.2</td><td>65246</td><td>78.9</td></tr><tr><td>China</td><td>1439.3</td><td>10261</td><td>76.9</td></tr><tr><td>Japan</td><td>126.5</td><td>40849</td><td>84.6</td></tr><tr><td>Germany</td><td>83.2</td><td>48039</td><td>81.2</td></tr><tr><td>India</td><td>1380.0</td><td>2155</td><td>69.7</td></tr><tr><td>UK</td><td>68.2</td><td>42943</td><td>81.3</td></tr><tr><td>France</td><td>65.3</td><td>41463</td><td>82.3</td></tr><tr><td>Italy</td><td>60.4</td><td>34483</td><td>83.5</td></tr><tr><td>Brazil</td><td>211.0</td><td>8824</td><td>75.9</td></tr><tr><td>Canada</td><td>38.0</td><td>46462</td><td>82.3</td></tr><tr><td>Australia</td><td>25.4</td><td>55871</td><td>83.9</td></tr><tr><td>South Korea</td><td>51.8</td><td>32775</td><td>83.5</td></tr></tbody></table></div>"
      ]
     },
     "metadata": {
      "application/vnd.databricks.v1+output": {
       "addedWidgets": {},
       "aggData": [],
       "aggError": "",
       "aggOverflow": false,
       "aggSchema": [],
       "aggSeriesLimitReached": false,
       "aggType": "",
       "arguments": {},
       "columnCustomDisplayInfos": {},
       "data": [
        [
         "Country",
         "Population (millions)",
         "GDP per capita (USD)",
         "Life expectancy (years)"
        ],
        [
         "USA",
         "328.2",
         "65246",
         "78.9"
        ],
        [
         "China",
         "1439.3",
         "10261",
         "76.9"
        ],
        [
         "Japan",
         "126.5",
         "40849",
         "84.6"
        ],
        [
         "Germany",
         "83.2",
         "48039",
         "81.2"
        ],
        [
         "India",
         "1380.0",
         "2155",
         "69.7"
        ],
        [
         "UK",
         "68.2",
         "42943",
         "81.3"
        ],
        [
         "France",
         "65.3",
         "41463",
         "82.3"
        ],
        [
         "Italy",
         "60.4",
         "34483",
         "83.5"
        ],
        [
         "Brazil",
         "211.0",
         "8824",
         "75.9"
        ],
        [
         "Canada",
         "38.0",
         "46462",
         "82.3"
        ],
        [
         "Australia",
         "25.4",
         "55871",
         "83.9"
        ],
        [
         "South Korea",
         "51.8",
         "32775",
         "83.5"
        ]
       ],
       "datasetInfos": [],
       "dbfsResultPath": null,
       "isJsonSchema": true,
       "metadata": {},
       "overflow": false,
       "plotOptions": {
        "customPlotOptions": {},
        "displayType": "table",
        "pivotAggregation": null,
        "pivotColumns": null,
        "xColumns": null,
        "yColumns": null
       },
       "removedWidgets": [],
       "schema": [
        {
         "metadata": "{}",
         "name": "_c0",
         "type": "\"string\""
        },
        {
         "metadata": "{}",
         "name": "_c1",
         "type": "\"string\""
        },
        {
         "metadata": "{}",
         "name": "_c2",
         "type": "\"string\""
        },
        {
         "metadata": "{}",
         "name": "_c3",
         "type": "\"string\""
        }
       ],
       "type": "table"
      }
     },
     "output_type": "display_data"
    },
    {
     "output_type": "display_data",
     "data": {
      "text/plain": [
       "Databricks visualization. Run in Databricks to view."
      ]
     },
     "metadata": {
      "application/vnd.databricks.v1.subcommand+json": {
       "baseErrorDetails": null,
       "bindings": {},
       "collapsed": false,
       "command": "%python\n__backend_agg_display_orig = display\n__backend_agg_dfs = []\ndef __backend_agg_display_new(df):\n    __backend_agg_df_modules = [\"pandas.core.frame\", \"databricks.koalas.frame\", \"pyspark.sql.dataframe\", \"pyspark.pandas.frame\", \"pyspark.sql.connect.dataframe\"]\n    if (type(df).__module__ in __backend_agg_df_modules and type(df).__name__ == 'DataFrame') or isinstance(df, list):\n        __backend_agg_dfs.append(df)\n\ndisplay = __backend_agg_display_new\n\ndef __backend_agg_user_code_fn():\n    import base64\n    exec(base64.standard_b64decode(\"IyBFREEgLSBEYXRhIFZpc3VhbGl6YXRpb24KCmRpc3BsYXkoZGF0YWZyYW1lKQo=\").decode())\n\ntry:\n    # run user code\n    __backend_agg_user_code_fn()\n\n    #reset display function\n    display = __backend_agg_display_orig\n\n    if len(__backend_agg_dfs) > 0:\n        # create a temp view\n        if type(__backend_agg_dfs[0]).__module__ == \"databricks.koalas.frame\":\n            # koalas dataframe\n            __backend_agg_dfs[0].to_spark().createOrReplaceTempView(\"DatabricksView62c76e1\")\n        elif type(__backend_agg_dfs[0]).__module__ == \"pandas.core.frame\" or isinstance(__backend_agg_dfs[0], list):\n            # pandas dataframe\n            spark.createDataFrame(__backend_agg_dfs[0]).createOrReplaceTempView(\"DatabricksView62c76e1\")\n        else:\n            __backend_agg_dfs[0].createOrReplaceTempView(\"DatabricksView62c76e1\")\n        #run backend agg\n        display(spark.sql(\"\"\"WITH q AS (select * from DatabricksView62c76e1) SELECT `_c3`,COUNT(`_c2`) `column_e9b318c53` FROM q GROUP BY `_c3`\"\"\"))\n    else:\n        displayHTML(\"dataframe no longer exists. If you're using dataframe.display(), use display(dataframe) instead.\")\n\n\nfinally:\n    spark.sql(\"drop view if exists DatabricksView62c76e1\")\n    display = __backend_agg_display_orig\n    del __backend_agg_display_new\n    del __backend_agg_display_orig\n    del __backend_agg_dfs\n    del __backend_agg_user_code_fn\n\n",
       "commandTitle": "Visualization 1",
       "commandType": "auto",
       "commandVersion": 0,
       "commentThread": [],
       "commentsVisible": false,
       "contentSha256Hex": null,
       "customPlotOptions": {
        "redashChart": [
         {
          "key": "type",
          "value": "CHART"
         },
         {
          "key": "options",
          "value": {
           "alignYAxesAtZero": true,
           "coefficient": 1,
           "columnConfigurationMap": {
            "x": {
             "column": "_c3",
             "id": "column_e9b318c58"
            },
            "y": [
             {
              "column": "_c2",
              "id": "column_e9b318c53",
              "transform": "COUNT"
             }
            ]
           },
           "dateTimeFormat": "DD/MM/YYYY HH:mm",
           "direction": {
            "type": "counterclockwise"
           },
           "error_y": {
            "type": "data",
            "visible": true
           },
           "globalSeriesType": "pie",
           "isAggregationOn": true,
           "legend": {
            "traceorder": "normal"
           },
           "missingValuesAsZero": true,
           "numberFormat": "0,0.[00000]",
           "percentFormat": "0[.]00%",
           "series": {
            "error_y": {
             "type": "data",
             "visible": true
            },
            "stacking": null
           },
           "seriesOptions": {
            "_c2": {
             "type": "pie",
             "yAxis": 0
            },
            "column_e9b318c53": {
             "type": "pie",
             "yAxis": 0
            }
           },
           "showDataLabels": true,
           "sizemode": "diameter",
           "sortX": true,
           "sortY": true,
           "swappedAxes": false,
           "textFormat": "",
           "useAggregationsUi": true,
           "valuesOptions": {},
           "version": 2,
           "xAxis": {
            "labels": {
             "enabled": true
            },
            "title": {
             "text": "Population"
            },
            "type": "-"
           },
           "yAxis": [
            {
             "title": {
              "text": "GDP"
             },
             "type": "-"
            },
            {
             "opposite": true,
             "type": "-"
            }
           ]
          }
         }
        ]
       },
       "datasetPreviewNameToCmdIdMap": {},
       "diffDeletes": [],
       "diffInserts": [],
       "displayType": "redashChart",
       "error": null,
       "errorDetails": null,
       "errorSummary": null,
       "errorTraceType": null,
       "finishTime": 0,
       "globalVars": {},
       "guid": "",
       "height": "auto",
       "hideCommandCode": false,
       "hideCommandResult": false,
       "iPythonMetadata": null,
       "inputWidgets": {},
       "isLockedInExamMode": false,
       "latestUser": "a user",
       "latestUserId": null,
       "listResultMetadata": null,
       "metadata": {},
       "nuid": "56a7af2e-3aec-4155-9b16-c5e194c4b8db",
       "origId": 0,
       "parentHierarchy": [],
       "pivotAggregation": null,
       "pivotColumns": null,
       "position": 7.0,
       "resultDbfsErrorMessage": null,
       "resultDbfsStatus": "INLINED_IN_TREE",
       "results": null,
       "showCommandTitle": false,
       "startTime": 0,
       "state": "input",
       "streamStates": {},
       "subcommandOptions": {
        "queryPlan": {
         "groups": [
          {
           "column": "_c3",
           "type": "column"
          }
         ],
         "selects": [
          {
           "column": "_c3",
           "type": "column"
          },
          {
           "alias": "column_e9b318c53",
           "args": [
            {
             "column": "_c2",
             "type": "column"
            }
           ],
           "function": "COUNT",
           "type": "function"
          }
         ]
        }
       },
       "submitTime": 0,
       "subtype": "tableResultSubCmd.visualization",
       "tableResultIndex": 0,
       "useConsistentColors": false,
       "version": "CommandV1",
       "width": "auto",
       "workflows": [],
       "xColumns": null,
       "yColumns": null
      }
     },
     "output_type": "display_data"
    }
   ],
   "source": [
    "# EDA - Data Visualization\n",
    "\n",
    "display(dataframe)\n"
   ]
  }
 ],
 "metadata": {
  "application/vnd.databricks.v1+notebook": {
   "dashboards": [],
   "language": "python",
   "notebookMetadata": {
    "pythonIndentUnit": 4
   },
   "notebookName": "CodingChallenge-EDA and DV 2024-02-21 10:28:42",
   "widgets": {}
  }
 },
 "nbformat": 4,
 "nbformat_minor": 0
}
