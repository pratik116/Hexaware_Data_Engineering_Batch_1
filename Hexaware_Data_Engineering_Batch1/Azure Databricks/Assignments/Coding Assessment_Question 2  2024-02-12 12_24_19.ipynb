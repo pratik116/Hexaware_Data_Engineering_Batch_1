{
 "cells": [
  {
   "cell_type": "code",
   "execution_count": 0,
   "metadata": {
    "application/vnd.databricks.v1+cell": {
     "cellMetadata": {
      "byteLimit": 2048000,
      "rowLimit": 10000
     },
     "inputWidgets": {},
     "nuid": "e644a327-794c-4f29-bc6a-aface437c3a2",
     "showTitle": false,
     "title": ""
    }
   },
   "outputs": [],
   "source": [
    "from pyspark.sql import SparkSession"
   ]
  },
  {
   "cell_type": "code",
   "execution_count": 0,
   "metadata": {
    "application/vnd.databricks.v1+cell": {
     "cellMetadata": {
      "byteLimit": 2048000,
      "rowLimit": 10000
     },
     "inputWidgets": {},
     "nuid": "21829fe6-a179-4cda-8fb9-5ac4146810ec",
     "showTitle": false,
     "title": ""
    }
   },
   "outputs": [],
   "source": [
    "spark = SparkSession.builder.appName('Coding_assisment').getOrCreate()"
   ]
  },
  {
   "cell_type": "code",
   "execution_count": 0,
   "metadata": {
    "application/vnd.databricks.v1+cell": {
     "cellMetadata": {
      "byteLimit": 2048000,
      "rowLimit": 10000
     },
     "inputWidgets": {},
     "nuid": "564c1ed4-6bac-4348-a4cb-fea57778283e",
     "showTitle": false,
     "title": ""
    }
   },
   "outputs": [
    {
     "output_type": "stream",
     "name": "stdout",
     "output_type": "stream",
     "text": [
      "Out[3]: DataFrame[]"
     ]
    }
   ],
   "source": [
    "# Creating DataBase\n",
    "\n",
    "spark.sql(\"CREATE DATABASE IF NOT EXISTS Student_info\")"
   ]
  },
  {
   "cell_type": "code",
   "execution_count": 0,
   "metadata": {
    "application/vnd.databricks.v1+cell": {
     "cellMetadata": {
      "byteLimit": 2048000,
      "rowLimit": 10000
     },
     "inputWidgets": {},
     "nuid": "2e06bebc-6399-43b9-b005-ff0df7c022ea",
     "showTitle": false,
     "title": ""
    }
   },
   "outputs": [
    {
     "output_type": "stream",
     "name": "stdout",
     "output_type": "stream",
     "text": [
      "+-------+----+---------+\n|Roll_no|Name|Course_id|\n+-------+----+---------+\n+-------+----+---------+\n\n+-----------+---------+\n|Course_name|Course_id|\n+-----------+---------+\n+-----------+---------+\n\n"
     ]
    }
   ],
   "source": [
    "# Creating Tables\n",
    "\n",
    "spark.sql(\"CREATE TABLE if not exists Student_info.Students (Roll_no Int, Name String, Course_id Int)\")\n",
    "spark.sql(\"CREATE TABLE if not exists Student_info.Courses (Course_name String, Course_id Int)\")\n",
    "spark.sql(\"Select * from Student_info.Students\").show()\n",
    "spark.sql(\"Select * from Student_info.Courses\").show()\n"
   ]
  },
  {
   "cell_type": "code",
   "execution_count": 0,
   "metadata": {
    "application/vnd.databricks.v1+cell": {
     "cellMetadata": {
      "byteLimit": 2048000,
      "rowLimit": 10000
     },
     "inputWidgets": {},
     "nuid": "908459d7-424c-40a2-a859-55dbc4016745",
     "showTitle": false,
     "title": ""
    }
   },
   "outputs": [
    {
     "output_type": "stream",
     "name": "stdout",
     "output_type": "stream",
     "text": [
      "+-------+-------------+---------+\n|Roll_no|         Name|Course_id|\n+-------+-------------+---------+\n|      1|   Amit Kumar|      101|\n|      2|  Priya Patel|      102|\n|      3| Rahul Sharma|      103|\n|      4|   Neha Gupta|      104|\n|      5|Sandeep Singh|      105|\n+-------+-------------+---------+\n\n+--------------------+---------+\n|         Course_name|Course_id|\n+--------------------+---------+\n|    Computer Science|      101|\n|Electrical Engine...|      102|\n|Mechanical Engine...|      103|\n|   Civil Engineering|      104|\n|         Mathematics|      105|\n|             Physics|      106|\n|           Chemistry|      107|\n+--------------------+---------+\n\n"
     ]
    }
   ],
   "source": [
    "# Inserting Dummy Data\n",
    "\n",
    "spark.sql(\"INSERT INTO Student_info.Students (Roll_no, Name, Course_id) VALUES\\\n",
    "(1, 'Amit Kumar', 101),\\\n",
    "(2, 'Priya Patel', 102),\\\n",
    "(3, 'Rahul Sharma', 103),\\\n",
    "(4, 'Neha Gupta', 104),\\\n",
    "(5, 'Sandeep Singh', 105);\")\n",
    "\n",
    "spark.sql(\"INSERT INTO Student_info.Courses (Course_name, Course_id) VALUES\\\n",
    "('Computer Science', 101),\\\n",
    "('Electrical Engineering', 102),\\\n",
    "('Mechanical Engineering', 103),\\\n",
    "('Civil Engineering', 104),\\\n",
    "('Mathematics', 105),\\\n",
    "('Physics', 106),\\\n",
    "('Chemistry', 107);\")\n"
   ]
  },
  {
   "cell_type": "code",
   "execution_count": 0,
   "metadata": {
    "application/vnd.databricks.v1+cell": {
     "cellMetadata": {
      "byteLimit": 2048000,
      "rowLimit": 10000
     },
     "inputWidgets": {},
     "nuid": "91c5b1ac-1570-4837-812e-2b22114084ac",
     "showTitle": false,
     "title": ""
    }
   },
   "outputs": [
    {
     "output_type": "stream",
     "name": "stdout",
     "output_type": "stream",
     "text": [
      "+-------+-------------+---------+\n|Roll_no|         Name|Course_id|\n+-------+-------------+---------+\n|      1|   Amit Kumar|      101|\n|      2|  Priya Patel|      102|\n|      3| Rahul Sharma|      103|\n|      4|   Neha Gupta|      104|\n|      5|Sandeep Singh|      105|\n+-------+-------------+---------+\n\n+--------------------+---------+\n|         Course_name|Course_id|\n+--------------------+---------+\n|    Computer Science|      101|\n|Electrical Engine...|      102|\n|Mechanical Engine...|      103|\n|   Civil Engineering|      104|\n|         Mathematics|      105|\n|             Physics|      106|\n|           Chemistry|      107|\n+--------------------+---------+\n\n"
     ]
    }
   ],
   "source": [
    "# After Inserting Records\n",
    "\n",
    "spark.sql(\"Select * from Student_info.Students\").show()\n",
    "spark.sql(\"Select * from Student_info.Courses\").show()"
   ]
  },
  {
   "cell_type": "code",
   "execution_count": 0,
   "metadata": {
    "application/vnd.databricks.v1+cell": {
     "cellMetadata": {
      "byteLimit": 2048000,
      "rowLimit": 10000
     },
     "inputWidgets": {},
     "nuid": "1481b797-8922-48bb-8e78-3fe980264f60",
     "showTitle": false,
     "title": ""
    }
   },
   "outputs": [
    {
     "output_type": "stream",
     "name": "stdout",
     "output_type": "stream",
     "text": [
      "+-------+-------------+---------+--------------------+---------+\n|Roll_no|         Name|Course_id|         Course_name|Course_id|\n+-------+-------------+---------+--------------------+---------+\n|      1|   Amit Kumar|      101|    Computer Science|      101|\n|      2|  Priya Patel|      102|Electrical Engine...|      102|\n|      3| Rahul Sharma|      103|Mechanical Engine...|      103|\n|      4|   Neha Gupta|      104|   Civil Engineering|      104|\n|      5|Sandeep Singh|      105|         Mathematics|      105|\n+-------+-------------+---------+--------------------+---------+\n\n"
     ]
    }
   ],
   "source": [
    "# Performing Joins \n",
    "#inner Join\n",
    "spark.sql(\"SELECT * FROM Student_info.Students INNER JOIN Student_info.Courses\\\n",
    "          ON Student_info.Students.Course_id = Student_info.Courses.Course_id\" ).show()"
   ]
  },
  {
   "cell_type": "code",
   "execution_count": 0,
   "metadata": {
    "application/vnd.databricks.v1+cell": {
     "cellMetadata": {
      "byteLimit": 2048000,
      "rowLimit": 10000
     },
     "inputWidgets": {},
     "nuid": "904715a1-6791-4097-8261-a137cf0c7956",
     "showTitle": false,
     "title": ""
    }
   },
   "outputs": [
    {
     "output_type": "stream",
     "name": "stdout",
     "output_type": "stream",
     "text": [
      "+-------+-------------+---------+--------------------+---------+\n|Roll_no|         Name|Course_id|         Course_name|Course_id|\n+-------+-------------+---------+--------------------+---------+\n|      1|   Amit Kumar|      101|    Computer Science|      101|\n|      2|  Priya Patel|      102|Electrical Engine...|      102|\n|      3| Rahul Sharma|      103|Mechanical Engine...|      103|\n|      4|   Neha Gupta|      104|   Civil Engineering|      104|\n|      5|Sandeep Singh|      105|         Mathematics|      105|\n+-------+-------------+---------+--------------------+---------+\n\n"
     ]
    }
   ],
   "source": [
    "# Left Join\n",
    "\n",
    "spark.sql(\"SELECT * FROM Student_info.Students LEFT JOIN Student_info.Courses\\\n",
    "          ON Student_info.Students.Course_id = Student_info.Courses.Course_id\" ).show()"
   ]
  },
  {
   "cell_type": "code",
   "execution_count": 0,
   "metadata": {
    "application/vnd.databricks.v1+cell": {
     "cellMetadata": {
      "byteLimit": 2048000,
      "rowLimit": 10000
     },
     "inputWidgets": {},
     "nuid": "3ca92eda-3b27-4295-9c54-6140378d7c73",
     "showTitle": false,
     "title": ""
    }
   },
   "outputs": [
    {
     "output_type": "stream",
     "name": "stdout",
     "output_type": "stream",
     "text": [
      "+-------+-------------+---------+--------------------+---------+\n|Roll_no|         Name|Course_id|         Course_name|Course_id|\n+-------+-------------+---------+--------------------+---------+\n|      1|   Amit Kumar|      101|    Computer Science|      101|\n|      2|  Priya Patel|      102|Electrical Engine...|      102|\n|      3| Rahul Sharma|      103|Mechanical Engine...|      103|\n|      4|   Neha Gupta|      104|   Civil Engineering|      104|\n|      5|Sandeep Singh|      105|         Mathematics|      105|\n|   null|         null|     null|             Physics|      106|\n|   null|         null|     null|           Chemistry|      107|\n+-------+-------------+---------+--------------------+---------+\n\n"
     ]
    }
   ],
   "source": [
    "# Right Join \n",
    "\n",
    "spark.sql(\"SELECT * FROM Student_info.Students RIGHT JOIN Student_info.Courses\\\n",
    "          ON Student_info.Students.Course_id = Student_info.Courses.Course_id\" ).show()"
   ]
  },
  {
   "cell_type": "code",
   "execution_count": 0,
   "metadata": {
    "application/vnd.databricks.v1+cell": {
     "cellMetadata": {
      "byteLimit": 2048000,
      "rowLimit": 10000
     },
     "inputWidgets": {},
     "nuid": "4178ae2f-e90e-4b53-bfa1-40c722910bf0",
     "showTitle": false,
     "title": ""
    }
   },
   "outputs": [
    {
     "output_type": "stream",
     "name": "stdout",
     "output_type": "stream",
     "text": [
      "+-------+----+---------+\n|Roll_no|Name|Course_id|\n+-------+----+---------+\n+-------+----+---------+\n\n"
     ]
    }
   ],
   "source": [
    "# Left Anti join\n",
    "\n",
    "spark.sql(\"SELECT * FROM Student_info.Students Left ANTI JOIN Student_info.Courses\\\n",
    "          ON Student_info.Students.Course_id = Student_info.Courses.Course_id\" ).show()\n"
   ]
  },
  {
   "cell_type": "code",
   "execution_count": 0,
   "metadata": {
    "application/vnd.databricks.v1+cell": {
     "cellMetadata": {
      "byteLimit": 2048000,
      "rowLimit": 10000
     },
     "inputWidgets": {},
     "nuid": "a9df9719-ce96-4470-bcca-7d1983072413",
     "showTitle": false,
     "title": ""
    }
   },
   "outputs": [
    {
     "output_type": "stream",
     "name": "stdout",
     "output_type": "stream",
     "text": [
      "+-------+-------------+---------+\n|Roll_no|         Name|Course_id|\n+-------+-------------+---------+\n|      1|   Amit Kumar|      101|\n|      2|  Priya Patel|      102|\n|      3| Rahul Sharma|      103|\n|      4|   Neha Gupta|      104|\n|      5|Sandeep Singh|      105|\n+-------+-------------+---------+\n\n"
     ]
    }
   ],
   "source": [
    "# Left Semi Join\n",
    "\n",
    "spark.sql(\"SELECT * FROM Student_info.Students LEFT SEMI JOIN Student_info.Courses\\\n",
    "          ON Student_info.Students.Course_id = Student_info.Courses.Course_id\" ).show()"
   ]
  },
  {
   "cell_type": "code",
   "execution_count": 0,
   "metadata": {
    "application/vnd.databricks.v1+cell": {
     "cellMetadata": {
      "byteLimit": 2048000,
      "rowLimit": 10000
     },
     "inputWidgets": {},
     "nuid": "8a2b6db4-de09-441a-bed3-0feca06e52de",
     "showTitle": false,
     "title": ""
    }
   },
   "outputs": [],
   "source": [
    "import pyspark.pandas as pd\n",
    "import numpy as np"
   ]
  },
  {
   "cell_type": "code",
   "execution_count": 0,
   "metadata": {
    "application/vnd.databricks.v1+cell": {
     "cellMetadata": {
      "byteLimit": 2048000,
      "rowLimit": 10000
     },
     "inputWidgets": {},
     "nuid": "fc5fe337-5b41-4612-8c61-ae92d0ead6c2",
     "showTitle": false,
     "title": ""
    }
   },
   "outputs": [
    {
     "output_type": "stream",
     "name": "stdout",
     "output_type": "stream",
     "text": [
      "<class 'pyspark.pandas.frame.DataFrame'>\n   Four Week Income of March  Four Week Income of may\n0                       1000                     1000\n1                       2500                     5008\n2                       1500                     1004\n3                       1200                     2006\n"
     ]
    }
   ],
   "source": [
    "\n",
    "# DataFrame Created\n",
    "Data = ({\n",
    "    \n",
    "    'Four Week Income of March':[1000,2500,1500,1200],\n",
    "    'Four Week Income of may':[1000,5008,1004,2006]\n",
    "               })\n",
    "\n",
    "pandasDataFrame= pd.DataFrame(Data)\n",
    "print(type(pandasDataFrame))\n",
    "print(pandasDataFrame)\n"
   ]
  },
  {
   "cell_type": "code",
   "execution_count": 0,
   "metadata": {
    "application/vnd.databricks.v1+cell": {
     "cellMetadata": {
      "byteLimit": 2048000,
      "rowLimit": 10000
     },
     "inputWidgets": {},
     "nuid": "01dee6e9-9a02-46be-b4f1-77758033d1b7",
     "showTitle": false,
     "title": ""
    }
   },
   "outputs": [
    {
     "output_type": "stream",
     "name": "stdout",
     "output_type": "stream",
     "text": [
      "Four Week Income of March    3500\nFour Week Income of may      6008\ndtype: int64\n"
     ]
    }
   ],
   "source": [
    "# Function for total income\n",
    "\n",
    "def Total_income_Monthwise(DF):                                 \n",
    "   return DF[0]+DF[1]\n",
    "  \n",
    "Final_DF = pandasDataFrame.apply(Total_income_Monthwise)\n",
    "print(Final_DF)"
   ]
  }
 ],
 "metadata": {
  "application/vnd.databricks.v1+notebook": {
   "dashboards": [],
   "language": "python",
   "notebookMetadata": {
    "pythonIndentUnit": 4
   },
   "notebookName": "Coding Assessment_Question 2  2024-02-12 12:24:19",
   "widgets": {}
  }
 },
 "nbformat": 4,
 "nbformat_minor": 0
}
